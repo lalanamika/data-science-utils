{
 "cells": [
  {
   "cell_type": "markdown",
   "metadata": {},
   "source": [
    "# Table of Contents Builder"
   ]
  },
  {
   "cell_type": "markdown",
   "metadata": {},
   "source": [
    "Goal  \n",
    "This notebook will build a Table of Contents for a given Notebook.  \n",
    "IDE: Visual Studio Code"
   ]
  },
  {
   "cell_type": "markdown",
   "metadata": {},
   "source": [
    "Steps to Use:  \n",
    "1. Set the value of NOTEBOOK_PATH to the file that you want to generate the Table of Contents(TOC) for. (must have .ipynb extension)\n",
    "2. Set the value of DESTINATION_TOC_MD_FILE to the file that you want to store the result in. (must have .md extension)\n",
    "3. Run all the cells in this notebook.\n",
    "4. Open the .md file that has been generated on your machine, and copy it's contents.\n",
    "5. In your notebook that needs a TOC, add a new Markdown cell at the top and paste the contents there.\n",
    "6. Verify that the links and TOC is working properly in your notebook after pasting the contents."
   ]
  },
  {
   "cell_type": "code",
   "execution_count": 5,
   "metadata": {},
   "outputs": [],
   "source": [
    "import nbformat\n",
    "import re\n"
   ]
  },
  {
   "cell_type": "code",
   "execution_count": 6,
   "metadata": {},
   "outputs": [],
   "source": [
    "# path to the Notebook (.ipynb) file that you want to generate a TOC for\n",
    "NOTEBOOK_PATH = \"notebook.ipynb\"\n",
    "\n",
    "# The markdown generated for the TOC should be written into the file specified in DESTINATION_TOC_MD_FILE\n",
    "DESTINATION_TOC_MD_FILE = \"toc.md\""
   ]
  },
  {
   "cell_type": "code",
   "execution_count": 7,
   "metadata": {},
   "outputs": [],
   "source": [
    "# This code was generated with the help of ChatGPT by OpenAI\n",
    "import nbformat\n",
    "import re\n",
    "\n",
    "def create_anchor(header):\n",
    "        # Removes backticks from the header text and converts it to a URL-friendly anchor (lowercase and hyphen-separated).\n",
    "        header_no_backticks = re.sub(r'`', '', header)\n",
    "        anchor = header_no_backticks.lower().replace(\" \", \"-\")\n",
    "        return anchor\n",
    "\n",
    "def generate_toc(notebook_path):\n",
    "    with open(notebook_path, 'r', encoding='utf-8') as f:\n",
    "        nb = nbformat.read(f, as_version=4)\n",
    "\n",
    "    toc = []\n",
    "    # match headers of the form # Header, ## Header, etc.\n",
    "    header_pattern = re.compile(r'^(#+) (.+)$')\n",
    "\n",
    "    for cell in nb.cells:\n",
    "        if cell.cell_type == 'markdown':\n",
    "            lines = cell.source.split('\\n')\n",
    "            for line in lines:\n",
    "                match = header_pattern.match(line)\n",
    "                if match:\n",
    "                    level = len(match.group(1))\n",
    "                    header = match.group(2)\n",
    "                    anchor = create_anchor(header)\n",
    "                    # The headers are stored in the toc list along with their levels and anchors.\n",
    "                    toc.append((level, header, anchor))\n",
    "\n",
    "    toc_md = '# Table of Contents\\n'\n",
    "    for level, header, anchor in toc:\n",
    "        indent = '  ' * (level - 1)\n",
    "        toc_md += f'{indent}- [{header}](#{anchor})\\n'\n",
    "\n",
    "    return toc_md\n",
    "\n"
   ]
  },
  {
   "cell_type": "code",
   "execution_count": null,
   "metadata": {},
   "outputs": [],
   "source": [
    "toc_markdown = generate_toc(NOTEBOOK_PATH)\n",
    "\n",
    "# Save the ToC to a markdown file\n",
    "with open(DESTINATION_TOC_MD_FILE, 'w', encoding='utf-8') as f:\n",
    "    f.write(toc_markdown)\n",
    "\n",
    "# Display the ToC in a markdown cell if you want to check how it will appear.\n",
    "# The actual markdown code is in the md file that you specified.\n",
    "from IPython.display import display, Markdown\n",
    "display(Markdown(toc_markdown))\n"
   ]
  }
 ],
 "metadata": {
  "kernelspec": {
   "display_name": "base",
   "language": "python",
   "name": "python3"
  },
  "language_info": {
   "codemirror_mode": {
    "name": "ipython",
    "version": 3
   },
   "file_extension": ".py",
   "mimetype": "text/x-python",
   "name": "python",
   "nbconvert_exporter": "python",
   "pygments_lexer": "ipython3",
   "version": "3.11.7"
  }
 },
 "nbformat": 4,
 "nbformat_minor": 2
}
